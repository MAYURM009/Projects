{
 "cells": [
  {
   "cell_type": "code",
   "execution_count": 1,
   "metadata": {},
   "outputs": [],
   "source": [
    "# Supress Warnings\n",
    "\n",
    "import warnings\n",
    "warnings.filterwarnings('ignore')"
   ]
  },
  {
   "cell_type": "code",
   "execution_count": 2,
   "metadata": {},
   "outputs": [],
   "source": [
    "# Import the numpy and pandas packages\n",
    "\n",
    "import numpy as np\n",
    "import pandas as pd"
   ]
  },
  {
   "cell_type": "markdown",
   "metadata": {},
   "source": [
    "## Task 1: Reading and Inspection\n",
    "\n",
    "-  ### Subtask 1.1: Import and read\n",
    "\n",
    "Import and read the movie database. Store it in a variable called `movies`."
   ]
  },
  {
   "cell_type": "code",
   "execution_count": 6,
   "metadata": {},
   "outputs": [
    {
     "data": {
      "text/html": [
       "<div>\n",
       "<style scoped>\n",
       "    .dataframe tbody tr th:only-of-type {\n",
       "        vertical-align: middle;\n",
       "    }\n",
       "\n",
       "    .dataframe tbody tr th {\n",
       "        vertical-align: top;\n",
       "    }\n",
       "\n",
       "    .dataframe thead th {\n",
       "        text-align: right;\n",
       "    }\n",
       "</style>\n",
       "<table border=\"1\" class=\"dataframe\">\n",
       "  <thead>\n",
       "    <tr style=\"text-align: right;\">\n",
       "      <th></th>\n",
       "      <th>color</th>\n",
       "      <th>director_name</th>\n",
       "      <th>num_critic_for_reviews</th>\n",
       "      <th>duration</th>\n",
       "      <th>director_facebook_likes</th>\n",
       "      <th>actor_3_facebook_likes</th>\n",
       "      <th>actor_2_name</th>\n",
       "      <th>actor_1_facebook_likes</th>\n",
       "      <th>gross</th>\n",
       "      <th>genres</th>\n",
       "      <th>...</th>\n",
       "      <th>num_user_for_reviews</th>\n",
       "      <th>language</th>\n",
       "      <th>country</th>\n",
       "      <th>content_rating</th>\n",
       "      <th>budget</th>\n",
       "      <th>title_year</th>\n",
       "      <th>actor_2_facebook_likes</th>\n",
       "      <th>imdb_score</th>\n",
       "      <th>aspect_ratio</th>\n",
       "      <th>movie_facebook_likes</th>\n",
       "    </tr>\n",
       "  </thead>\n",
       "  <tbody>\n",
       "    <tr>\n",
       "      <th>0</th>\n",
       "      <td>Color</td>\n",
       "      <td>James Cameron</td>\n",
       "      <td>723.0</td>\n",
       "      <td>178.0</td>\n",
       "      <td>0.0</td>\n",
       "      <td>855.0</td>\n",
       "      <td>Joel David Moore</td>\n",
       "      <td>1000.0</td>\n",
       "      <td>760505847.0</td>\n",
       "      <td>Action|Adventure|Fantasy|Sci-Fi</td>\n",
       "      <td>...</td>\n",
       "      <td>3054.0</td>\n",
       "      <td>English</td>\n",
       "      <td>USA</td>\n",
       "      <td>PG-13</td>\n",
       "      <td>237000000.0</td>\n",
       "      <td>2009.0</td>\n",
       "      <td>936.0</td>\n",
       "      <td>7.9</td>\n",
       "      <td>1.78</td>\n",
       "      <td>33000</td>\n",
       "    </tr>\n",
       "    <tr>\n",
       "      <th>1</th>\n",
       "      <td>Color</td>\n",
       "      <td>Gore Verbinski</td>\n",
       "      <td>302.0</td>\n",
       "      <td>169.0</td>\n",
       "      <td>563.0</td>\n",
       "      <td>1000.0</td>\n",
       "      <td>Orlando Bloom</td>\n",
       "      <td>40000.0</td>\n",
       "      <td>309404152.0</td>\n",
       "      <td>Action|Adventure|Fantasy</td>\n",
       "      <td>...</td>\n",
       "      <td>1238.0</td>\n",
       "      <td>English</td>\n",
       "      <td>USA</td>\n",
       "      <td>PG-13</td>\n",
       "      <td>300000000.0</td>\n",
       "      <td>2007.0</td>\n",
       "      <td>5000.0</td>\n",
       "      <td>7.1</td>\n",
       "      <td>2.35</td>\n",
       "      <td>0</td>\n",
       "    </tr>\n",
       "    <tr>\n",
       "      <th>2</th>\n",
       "      <td>Color</td>\n",
       "      <td>Sam Mendes</td>\n",
       "      <td>602.0</td>\n",
       "      <td>148.0</td>\n",
       "      <td>0.0</td>\n",
       "      <td>161.0</td>\n",
       "      <td>Rory Kinnear</td>\n",
       "      <td>11000.0</td>\n",
       "      <td>200074175.0</td>\n",
       "      <td>Action|Adventure|Thriller</td>\n",
       "      <td>...</td>\n",
       "      <td>994.0</td>\n",
       "      <td>English</td>\n",
       "      <td>UK</td>\n",
       "      <td>PG-13</td>\n",
       "      <td>245000000.0</td>\n",
       "      <td>2015.0</td>\n",
       "      <td>393.0</td>\n",
       "      <td>6.8</td>\n",
       "      <td>2.35</td>\n",
       "      <td>85000</td>\n",
       "    </tr>\n",
       "    <tr>\n",
       "      <th>3</th>\n",
       "      <td>Color</td>\n",
       "      <td>Christopher Nolan</td>\n",
       "      <td>813.0</td>\n",
       "      <td>164.0</td>\n",
       "      <td>22000.0</td>\n",
       "      <td>23000.0</td>\n",
       "      <td>Christian Bale</td>\n",
       "      <td>27000.0</td>\n",
       "      <td>448130642.0</td>\n",
       "      <td>Action|Thriller</td>\n",
       "      <td>...</td>\n",
       "      <td>2701.0</td>\n",
       "      <td>English</td>\n",
       "      <td>USA</td>\n",
       "      <td>PG-13</td>\n",
       "      <td>250000000.0</td>\n",
       "      <td>2012.0</td>\n",
       "      <td>23000.0</td>\n",
       "      <td>8.5</td>\n",
       "      <td>2.35</td>\n",
       "      <td>164000</td>\n",
       "    </tr>\n",
       "    <tr>\n",
       "      <th>4</th>\n",
       "      <td>NaN</td>\n",
       "      <td>Doug Walker</td>\n",
       "      <td>NaN</td>\n",
       "      <td>NaN</td>\n",
       "      <td>131.0</td>\n",
       "      <td>NaN</td>\n",
       "      <td>Rob Walker</td>\n",
       "      <td>131.0</td>\n",
       "      <td>NaN</td>\n",
       "      <td>Documentary</td>\n",
       "      <td>...</td>\n",
       "      <td>NaN</td>\n",
       "      <td>NaN</td>\n",
       "      <td>NaN</td>\n",
       "      <td>NaN</td>\n",
       "      <td>NaN</td>\n",
       "      <td>NaN</td>\n",
       "      <td>12.0</td>\n",
       "      <td>7.1</td>\n",
       "      <td>NaN</td>\n",
       "      <td>0</td>\n",
       "    </tr>\n",
       "    <tr>\n",
       "      <th>...</th>\n",
       "      <td>...</td>\n",
       "      <td>...</td>\n",
       "      <td>...</td>\n",
       "      <td>...</td>\n",
       "      <td>...</td>\n",
       "      <td>...</td>\n",
       "      <td>...</td>\n",
       "      <td>...</td>\n",
       "      <td>...</td>\n",
       "      <td>...</td>\n",
       "      <td>...</td>\n",
       "      <td>...</td>\n",
       "      <td>...</td>\n",
       "      <td>...</td>\n",
       "      <td>...</td>\n",
       "      <td>...</td>\n",
       "      <td>...</td>\n",
       "      <td>...</td>\n",
       "      <td>...</td>\n",
       "      <td>...</td>\n",
       "      <td>...</td>\n",
       "    </tr>\n",
       "    <tr>\n",
       "      <th>5038</th>\n",
       "      <td>Color</td>\n",
       "      <td>Scott Smith</td>\n",
       "      <td>1.0</td>\n",
       "      <td>87.0</td>\n",
       "      <td>2.0</td>\n",
       "      <td>318.0</td>\n",
       "      <td>Daphne Zuniga</td>\n",
       "      <td>637.0</td>\n",
       "      <td>NaN</td>\n",
       "      <td>Comedy|Drama</td>\n",
       "      <td>...</td>\n",
       "      <td>6.0</td>\n",
       "      <td>English</td>\n",
       "      <td>Canada</td>\n",
       "      <td>NaN</td>\n",
       "      <td>NaN</td>\n",
       "      <td>2013.0</td>\n",
       "      <td>470.0</td>\n",
       "      <td>7.7</td>\n",
       "      <td>NaN</td>\n",
       "      <td>84</td>\n",
       "    </tr>\n",
       "    <tr>\n",
       "      <th>5039</th>\n",
       "      <td>Color</td>\n",
       "      <td>NaN</td>\n",
       "      <td>43.0</td>\n",
       "      <td>43.0</td>\n",
       "      <td>NaN</td>\n",
       "      <td>319.0</td>\n",
       "      <td>Valorie Curry</td>\n",
       "      <td>841.0</td>\n",
       "      <td>NaN</td>\n",
       "      <td>Crime|Drama|Mystery|Thriller</td>\n",
       "      <td>...</td>\n",
       "      <td>359.0</td>\n",
       "      <td>English</td>\n",
       "      <td>USA</td>\n",
       "      <td>TV-14</td>\n",
       "      <td>NaN</td>\n",
       "      <td>NaN</td>\n",
       "      <td>593.0</td>\n",
       "      <td>7.5</td>\n",
       "      <td>16.00</td>\n",
       "      <td>32000</td>\n",
       "    </tr>\n",
       "    <tr>\n",
       "      <th>5040</th>\n",
       "      <td>Color</td>\n",
       "      <td>Benjamin Roberds</td>\n",
       "      <td>13.0</td>\n",
       "      <td>76.0</td>\n",
       "      <td>0.0</td>\n",
       "      <td>0.0</td>\n",
       "      <td>Maxwell Moody</td>\n",
       "      <td>0.0</td>\n",
       "      <td>NaN</td>\n",
       "      <td>Drama|Horror|Thriller</td>\n",
       "      <td>...</td>\n",
       "      <td>3.0</td>\n",
       "      <td>English</td>\n",
       "      <td>USA</td>\n",
       "      <td>NaN</td>\n",
       "      <td>1400.0</td>\n",
       "      <td>2013.0</td>\n",
       "      <td>0.0</td>\n",
       "      <td>6.3</td>\n",
       "      <td>NaN</td>\n",
       "      <td>16</td>\n",
       "    </tr>\n",
       "    <tr>\n",
       "      <th>5041</th>\n",
       "      <td>Color</td>\n",
       "      <td>Daniel Hsia</td>\n",
       "      <td>14.0</td>\n",
       "      <td>100.0</td>\n",
       "      <td>0.0</td>\n",
       "      <td>489.0</td>\n",
       "      <td>Daniel Henney</td>\n",
       "      <td>946.0</td>\n",
       "      <td>10443.0</td>\n",
       "      <td>Comedy|Drama|Romance</td>\n",
       "      <td>...</td>\n",
       "      <td>9.0</td>\n",
       "      <td>English</td>\n",
       "      <td>USA</td>\n",
       "      <td>PG-13</td>\n",
       "      <td>NaN</td>\n",
       "      <td>2012.0</td>\n",
       "      <td>719.0</td>\n",
       "      <td>6.3</td>\n",
       "      <td>2.35</td>\n",
       "      <td>660</td>\n",
       "    </tr>\n",
       "    <tr>\n",
       "      <th>5042</th>\n",
       "      <td>Color</td>\n",
       "      <td>Jon Gunn</td>\n",
       "      <td>43.0</td>\n",
       "      <td>90.0</td>\n",
       "      <td>16.0</td>\n",
       "      <td>16.0</td>\n",
       "      <td>Brian Herzlinger</td>\n",
       "      <td>86.0</td>\n",
       "      <td>85222.0</td>\n",
       "      <td>Documentary</td>\n",
       "      <td>...</td>\n",
       "      <td>84.0</td>\n",
       "      <td>English</td>\n",
       "      <td>USA</td>\n",
       "      <td>PG</td>\n",
       "      <td>1100.0</td>\n",
       "      <td>2004.0</td>\n",
       "      <td>23.0</td>\n",
       "      <td>6.6</td>\n",
       "      <td>1.85</td>\n",
       "      <td>456</td>\n",
       "    </tr>\n",
       "  </tbody>\n",
       "</table>\n",
       "<p>5043 rows × 28 columns</p>\n",
       "</div>"
      ],
      "text/plain": [
       "      color      director_name  num_critic_for_reviews  duration  \\\n",
       "0     Color      James Cameron                   723.0     178.0   \n",
       "1     Color     Gore Verbinski                   302.0     169.0   \n",
       "2     Color         Sam Mendes                   602.0     148.0   \n",
       "3     Color  Christopher Nolan                   813.0     164.0   \n",
       "4       NaN        Doug Walker                     NaN       NaN   \n",
       "...     ...                ...                     ...       ...   \n",
       "5038  Color        Scott Smith                     1.0      87.0   \n",
       "5039  Color                NaN                    43.0      43.0   \n",
       "5040  Color   Benjamin Roberds                    13.0      76.0   \n",
       "5041  Color        Daniel Hsia                    14.0     100.0   \n",
       "5042  Color           Jon Gunn                    43.0      90.0   \n",
       "\n",
       "      director_facebook_likes  actor_3_facebook_likes      actor_2_name  \\\n",
       "0                         0.0                   855.0  Joel David Moore   \n",
       "1                       563.0                  1000.0     Orlando Bloom   \n",
       "2                         0.0                   161.0      Rory Kinnear   \n",
       "3                     22000.0                 23000.0    Christian Bale   \n",
       "4                       131.0                     NaN        Rob Walker   \n",
       "...                       ...                     ...               ...   \n",
       "5038                      2.0                   318.0     Daphne Zuniga   \n",
       "5039                      NaN                   319.0     Valorie Curry   \n",
       "5040                      0.0                     0.0     Maxwell Moody   \n",
       "5041                      0.0                   489.0     Daniel Henney   \n",
       "5042                     16.0                    16.0  Brian Herzlinger   \n",
       "\n",
       "      actor_1_facebook_likes        gross                           genres  \\\n",
       "0                     1000.0  760505847.0  Action|Adventure|Fantasy|Sci-Fi   \n",
       "1                    40000.0  309404152.0         Action|Adventure|Fantasy   \n",
       "2                    11000.0  200074175.0        Action|Adventure|Thriller   \n",
       "3                    27000.0  448130642.0                  Action|Thriller   \n",
       "4                      131.0          NaN                      Documentary   \n",
       "...                      ...          ...                              ...   \n",
       "5038                   637.0          NaN                     Comedy|Drama   \n",
       "5039                   841.0          NaN     Crime|Drama|Mystery|Thriller   \n",
       "5040                     0.0          NaN            Drama|Horror|Thriller   \n",
       "5041                   946.0      10443.0             Comedy|Drama|Romance   \n",
       "5042                    86.0      85222.0                      Documentary   \n",
       "\n",
       "      ... num_user_for_reviews language  country  content_rating       budget  \\\n",
       "0     ...               3054.0  English      USA           PG-13  237000000.0   \n",
       "1     ...               1238.0  English      USA           PG-13  300000000.0   \n",
       "2     ...                994.0  English       UK           PG-13  245000000.0   \n",
       "3     ...               2701.0  English      USA           PG-13  250000000.0   \n",
       "4     ...                  NaN      NaN      NaN             NaN          NaN   \n",
       "...   ...                  ...      ...      ...             ...          ...   \n",
       "5038  ...                  6.0  English   Canada             NaN          NaN   \n",
       "5039  ...                359.0  English      USA           TV-14          NaN   \n",
       "5040  ...                  3.0  English      USA             NaN       1400.0   \n",
       "5041  ...                  9.0  English      USA           PG-13          NaN   \n",
       "5042  ...                 84.0  English      USA              PG       1100.0   \n",
       "\n",
       "      title_year actor_2_facebook_likes imdb_score  aspect_ratio  \\\n",
       "0         2009.0                  936.0        7.9          1.78   \n",
       "1         2007.0                 5000.0        7.1          2.35   \n",
       "2         2015.0                  393.0        6.8          2.35   \n",
       "3         2012.0                23000.0        8.5          2.35   \n",
       "4            NaN                   12.0        7.1           NaN   \n",
       "...          ...                    ...        ...           ...   \n",
       "5038      2013.0                  470.0        7.7           NaN   \n",
       "5039         NaN                  593.0        7.5         16.00   \n",
       "5040      2013.0                    0.0        6.3           NaN   \n",
       "5041      2012.0                  719.0        6.3          2.35   \n",
       "5042      2004.0                   23.0        6.6          1.85   \n",
       "\n",
       "     movie_facebook_likes  \n",
       "0                   33000  \n",
       "1                       0  \n",
       "2                   85000  \n",
       "3                  164000  \n",
       "4                       0  \n",
       "...                   ...  \n",
       "5038                   84  \n",
       "5039                32000  \n",
       "5040                   16  \n",
       "5041                  660  \n",
       "5042                  456  \n",
       "\n",
       "[5043 rows x 28 columns]"
      ]
     },
     "execution_count": 6,
     "metadata": {},
     "output_type": "execute_result"
    }
   ],
   "source": [
    "movies = pd.read_csv('D:/upgrad/project/Movie+Assignment+Data.csv')\n",
    "movies"
   ]
  },
  {
   "cell_type": "markdown",
   "metadata": {},
   "source": [
    "-  ### Subtask 1.2: Inspect the dataframe\n",
    "\n",
    "Inspect the dataframe's columns, shapes, variable types etc."
   ]
  },
  {
   "cell_type": "code",
   "execution_count": 7,
   "metadata": {},
   "outputs": [
    {
     "name": "stdout",
     "output_type": "stream",
     "text": [
      "Columns in the DataFrame:\n",
      "Index(['color', 'director_name', 'num_critic_for_reviews', 'duration',\n",
      "       'director_facebook_likes', 'actor_3_facebook_likes', 'actor_2_name',\n",
      "       'actor_1_facebook_likes', 'gross', 'genres', 'actor_1_name',\n",
      "       'movie_title', 'num_voted_users', 'cast_total_facebook_likes',\n",
      "       'actor_3_name', 'facenumber_in_poster', 'plot_keywords',\n",
      "       'movie_imdb_link', 'num_user_for_reviews', 'language', 'country',\n",
      "       'content_rating', 'budget', 'title_year', 'actor_2_facebook_likes',\n",
      "       'imdb_score', 'aspect_ratio', 'movie_facebook_likes'],\n",
      "      dtype='object')\n",
      "\n",
      "Shape of the DataFrame:\n",
      "(5043, 28)\n",
      "\n",
      "Data types of each column:\n",
      "color                         object\n",
      "director_name                 object\n",
      "num_critic_for_reviews       float64\n",
      "duration                     float64\n",
      "director_facebook_likes      float64\n",
      "actor_3_facebook_likes       float64\n",
      "actor_2_name                  object\n",
      "actor_1_facebook_likes       float64\n",
      "gross                        float64\n",
      "genres                        object\n",
      "actor_1_name                  object\n",
      "movie_title                   object\n",
      "num_voted_users                int64\n",
      "cast_total_facebook_likes      int64\n",
      "actor_3_name                  object\n",
      "facenumber_in_poster         float64\n",
      "plot_keywords                 object\n",
      "movie_imdb_link               object\n",
      "num_user_for_reviews         float64\n",
      "language                      object\n",
      "country                       object\n",
      "content_rating                object\n",
      "budget                       float64\n",
      "title_year                   float64\n",
      "actor_2_facebook_likes       float64\n",
      "imdb_score                   float64\n",
      "aspect_ratio                 float64\n",
      "movie_facebook_likes           int64\n",
      "dtype: object\n",
      "\n",
      "First few rows of the DataFrame:\n",
      "   color      director_name  num_critic_for_reviews  duration  \\\n",
      "0  Color      James Cameron                   723.0     178.0   \n",
      "1  Color     Gore Verbinski                   302.0     169.0   \n",
      "2  Color         Sam Mendes                   602.0     148.0   \n",
      "3  Color  Christopher Nolan                   813.0     164.0   \n",
      "4    NaN        Doug Walker                     NaN       NaN   \n",
      "\n",
      "   director_facebook_likes  actor_3_facebook_likes      actor_2_name  \\\n",
      "0                      0.0                   855.0  Joel David Moore   \n",
      "1                    563.0                  1000.0     Orlando Bloom   \n",
      "2                      0.0                   161.0      Rory Kinnear   \n",
      "3                  22000.0                 23000.0    Christian Bale   \n",
      "4                    131.0                     NaN        Rob Walker   \n",
      "\n",
      "   actor_1_facebook_likes        gross                           genres  ...  \\\n",
      "0                  1000.0  760505847.0  Action|Adventure|Fantasy|Sci-Fi  ...   \n",
      "1                 40000.0  309404152.0         Action|Adventure|Fantasy  ...   \n",
      "2                 11000.0  200074175.0        Action|Adventure|Thriller  ...   \n",
      "3                 27000.0  448130642.0                  Action|Thriller  ...   \n",
      "4                   131.0          NaN                      Documentary  ...   \n",
      "\n",
      "  num_user_for_reviews language  country  content_rating       budget  \\\n",
      "0               3054.0  English      USA           PG-13  237000000.0   \n",
      "1               1238.0  English      USA           PG-13  300000000.0   \n",
      "2                994.0  English       UK           PG-13  245000000.0   \n",
      "3               2701.0  English      USA           PG-13  250000000.0   \n",
      "4                  NaN      NaN      NaN             NaN          NaN   \n",
      "\n",
      "   title_year actor_2_facebook_likes imdb_score  aspect_ratio  \\\n",
      "0      2009.0                  936.0        7.9          1.78   \n",
      "1      2007.0                 5000.0        7.1          2.35   \n",
      "2      2015.0                  393.0        6.8          2.35   \n",
      "3      2012.0                23000.0        8.5          2.35   \n",
      "4         NaN                   12.0        7.1           NaN   \n",
      "\n",
      "  movie_facebook_likes  \n",
      "0                33000  \n",
      "1                    0  \n",
      "2                85000  \n",
      "3               164000  \n",
      "4                    0  \n",
      "\n",
      "[5 rows x 28 columns]\n"
     ]
    }
   ],
   "source": [
    "# Write your code for inspection here\n",
    "print(\"Columns in the DataFrame:\")\n",
    "print(movies.columns)\n",
    "\n",
    "# Inspect the shape of the DataFrame (rows, columns)\n",
    "print(\"\\nShape of the DataFrame:\")\n",
    "print(movies.shape)\n",
    "\n",
    "# Inspect the data types of each column\n",
    "print(\"\\nData types of each column:\")\n",
    "print(movies.dtypes)\n",
    "\n",
    "# Display the first few rows of the DataFrame to get an idea of the data\n",
    "print(\"\\nFirst few rows of the DataFrame:\")\n",
    "print(movies.head())\n"
   ]
  },
  {
   "cell_type": "markdown",
   "metadata": {},
   "source": [
    "## Task 2: Cleaning the Data\n",
    "\n",
    "-  ### Subtask 2.1: Inspect Null values\n",
    "\n",
    "Find out the number of Null values in all the columns and rows. Also, find the percentage of Null values in each column. Round off the percentages upto two decimal places."
   ]
  },
  {
   "cell_type": "code",
   "execution_count": 8,
   "metadata": {},
   "outputs": [
    {
     "name": "stdout",
     "output_type": "stream",
     "text": [
      "Number of null values in each column:\n",
      "color                         19\n",
      "director_name                104\n",
      "num_critic_for_reviews        50\n",
      "duration                      15\n",
      "director_facebook_likes      104\n",
      "actor_3_facebook_likes        23\n",
      "actor_2_name                  13\n",
      "actor_1_facebook_likes         7\n",
      "gross                        884\n",
      "genres                         0\n",
      "actor_1_name                   7\n",
      "movie_title                    0\n",
      "num_voted_users                0\n",
      "cast_total_facebook_likes      0\n",
      "actor_3_name                  23\n",
      "facenumber_in_poster          13\n",
      "plot_keywords                153\n",
      "movie_imdb_link                0\n",
      "num_user_for_reviews          21\n",
      "language                      14\n",
      "country                        5\n",
      "content_rating               303\n",
      "budget                       492\n",
      "title_year                   108\n",
      "actor_2_facebook_likes        13\n",
      "imdb_score                     0\n",
      "aspect_ratio                 329\n",
      "movie_facebook_likes           0\n",
      "dtype: int64\n",
      "\n",
      "Percentage of null values in each column:\n",
      "color                         0.38\n",
      "director_name                 2.06\n",
      "num_critic_for_reviews        0.99\n",
      "duration                      0.30\n",
      "director_facebook_likes       2.06\n",
      "actor_3_facebook_likes        0.46\n",
      "actor_2_name                  0.26\n",
      "actor_1_facebook_likes        0.14\n",
      "gross                        17.53\n",
      "genres                        0.00\n",
      "actor_1_name                  0.14\n",
      "movie_title                   0.00\n",
      "num_voted_users               0.00\n",
      "cast_total_facebook_likes     0.00\n",
      "actor_3_name                  0.46\n",
      "facenumber_in_poster          0.26\n",
      "plot_keywords                 3.03\n",
      "movie_imdb_link               0.00\n",
      "num_user_for_reviews          0.42\n",
      "language                      0.28\n",
      "country                       0.10\n",
      "content_rating                6.01\n",
      "budget                        9.76\n",
      "title_year                    2.14\n",
      "actor_2_facebook_likes        0.26\n",
      "imdb_score                    0.00\n",
      "aspect_ratio                  6.52\n",
      "movie_facebook_likes          0.00\n",
      "dtype: float64\n"
     ]
    }
   ],
   "source": [
    "# Write your code for column-wise null count here\n",
    "null_counts_columns = movies.isnull().sum()\n",
    "\n",
    "# Calculate the percentage of null values in each column\n",
    "null_percentages_columns = (movies.isnull().mean() * 100).round(2)\n",
    "\n",
    "# Display the number of null values and their percentages\n",
    "print(\"Number of null values in each column:\")\n",
    "print(null_counts_columns)\n",
    "\n",
    "print(\"\\nPercentage of null values in each column:\")\n",
    "print(null_percentages_columns)"
   ]
  },
  {
   "cell_type": "code",
   "execution_count": 9,
   "metadata": {},
   "outputs": [
    {
     "name": "stdout",
     "output_type": "stream",
     "text": [
      "\n",
      "Number of null values in each row:\n",
      "0        0\n",
      "1        0\n",
      "2        0\n",
      "3        0\n",
      "4       14\n",
      "        ..\n",
      "5038     4\n",
      "5039     5\n",
      "5040     4\n",
      "5041     2\n",
      "5042     0\n",
      "Length: 5043, dtype: int64\n",
      "\n",
      "Percentage of null values in each row:\n",
      "0        0.00\n",
      "1        0.00\n",
      "2        0.00\n",
      "3        0.00\n",
      "4       50.00\n",
      "        ...  \n",
      "5038    14.29\n",
      "5039    17.86\n",
      "5040    14.29\n",
      "5041     7.14\n",
      "5042     0.00\n",
      "Length: 5043, dtype: float64\n"
     ]
    }
   ],
   "source": [
    "# Write your code for row-wise null count here\n",
    "null_counts_rows = movies.isnull().sum(axis=1)\n",
    "\n",
    "# Calculate the percentage of null values in each row\n",
    "null_percentages_rows = (movies.isnull().mean(axis=1) * 100).round(2)\n",
    "\n",
    "# Display the number of null values and their percentages in rows\n",
    "print(\"\\nNumber of null values in each row:\")\n",
    "print(null_counts_rows)\n",
    "\n",
    "print(\"\\nPercentage of null values in each row:\")\n",
    "print(null_percentages_rows)"
   ]
  },
  {
   "cell_type": "code",
   "execution_count": null,
   "metadata": {},
   "outputs": [],
   "source": [
    "# Write your code for column-wise null percentages here\n"
   ]
  },
  {
   "cell_type": "markdown",
   "metadata": {},
   "source": [
    "-  ### Subtask 2.2: Drop unecessary columns\n",
    "\n",
    "For this assignment, you will mostly be analyzing the movies with respect to the ratings, gross collection, popularity of movies, etc. So many of the columns in this dataframe are not required. So it is advised to drop the following columns.\n",
    "-  color\n",
    "-  director_facebook_likes\n",
    "-  actor_1_facebook_likes\n",
    "-  actor_2_facebook_likes\n",
    "-  actor_3_facebook_likes\n",
    "-  actor_2_name\n",
    "-  cast_total_facebook_likes\n",
    "-  actor_3_name\n",
    "-  duration\n",
    "-  facenumber_in_poster\n",
    "-  content_rating\n",
    "-  country\n",
    "-  movie_imdb_link\n",
    "-  aspect_ratio\n",
    "-  plot_keywords"
   ]
  },
  {
   "cell_type": "code",
   "execution_count": 10,
   "metadata": {},
   "outputs": [
    {
     "name": "stdout",
     "output_type": "stream",
     "text": [
      "Remaining columns after dropping unnecessary ones:\n",
      "Index(['director_name', 'num_critic_for_reviews', 'gross', 'genres',\n",
      "       'actor_1_name', 'movie_title', 'num_voted_users',\n",
      "       'num_user_for_reviews', 'language', 'budget', 'title_year',\n",
      "       'imdb_score', 'movie_facebook_likes'],\n",
      "      dtype='object')\n"
     ]
    }
   ],
   "source": [
    "# Write your code for dropping the columns here. It is advised to keep inspecting the dataframe after each set of operations \n",
    "columns_to_drop = [\n",
    "    'color', 'director_facebook_likes', 'actor_1_facebook_likes',\n",
    "    'actor_2_facebook_likes', 'actor_3_facebook_likes', 'actor_2_name',\n",
    "    'cast_total_facebook_likes', 'actor_3_name', 'duration',\n",
    "    'facenumber_in_poster', 'content_rating', 'country',\n",
    "    'movie_imdb_link', 'aspect_ratio', 'plot_keywords'\n",
    "]\n",
    "\n",
    "# Drop the specified columns\n",
    "columns_cleaned = movies.drop(columns=columns_to_drop)\n",
    "\n",
    "# Display the remaining columns in the DataFrame\n",
    "print(\"Remaining columns after dropping unnecessary ones:\")\n",
    "print(columns_cleaned.columns)"
   ]
  },
  {
   "cell_type": "markdown",
   "metadata": {},
   "source": [
    "-  ### Subtask 2.3: Drop unecessary rows using columns with high Null percentages\n",
    "\n",
    "Now, on inspection you might notice that some columns have large percentage (greater than 5%) of Null values. Drop all the rows which have Null values for such columns."
   ]
  },
  {
   "cell_type": "code",
   "execution_count": 13,
   "metadata": {},
   "outputs": [
    {
     "name": "stdout",
     "output_type": "stream",
     "text": [
      "DataFrame shape after dropping rows with nulls in columns with > 5% null values: (3784, 28)\n",
      "\n",
      "Columns with more than 5% null values:\n",
      "Index(['gross', 'content_rating', 'budget', 'aspect_ratio'], dtype='object')\n"
     ]
    }
   ],
   "source": [
    "null_percentages = movies.isnull().mean() * 100\n",
    "\n",
    "# Identify columns with more than 5% null values\n",
    "columns_with_high_nulls = null_percentages[null_percentages > 5].index\n",
    "\n",
    "# Drop rows with null values in those columns\n",
    "movies_cleaned = movies.dropna(subset=columns_with_high_nulls)\n",
    "\n",
    "# Display the shape of the dataframe after dropping rows\n",
    "print(f\"DataFrame shape after dropping rows with nulls in columns with > 5% null values: {movies_cleaned.shape}\")\n",
    "\n",
    "# Optionally, display the columns that had high null values\n",
    "print(\"\\nColumns with more than 5% null values:\")\n",
    "print(columns_with_high_nulls)"
   ]
  },
  {
   "cell_type": "markdown",
   "metadata": {},
   "source": [
    "-  ### Subtask 2.4: Drop unecessary rows\n",
    "\n",
    "Some of the rows might have greater than five NaN values. Such rows aren't of much use for the analysis and hence, should be removed."
   ]
  },
  {
   "cell_type": "code",
   "execution_count": 15,
   "metadata": {},
   "outputs": [
    {
     "name": "stdout",
     "output_type": "stream",
     "text": [
      "DataFrame shape after dropping rows with more than five NaN values: (4969, 28)\n",
      "\n",
      "First few rows after cleaning:\n",
      "   color      director_name  num_critic_for_reviews  duration  \\\n",
      "0  Color      James Cameron                   723.0     178.0   \n",
      "1  Color     Gore Verbinski                   302.0     169.0   \n",
      "2  Color         Sam Mendes                   602.0     148.0   \n",
      "3  Color  Christopher Nolan                   813.0     164.0   \n",
      "5  Color     Andrew Stanton                   462.0     132.0   \n",
      "\n",
      "   director_facebook_likes  actor_3_facebook_likes      actor_2_name  \\\n",
      "0                      0.0                   855.0  Joel David Moore   \n",
      "1                    563.0                  1000.0     Orlando Bloom   \n",
      "2                      0.0                   161.0      Rory Kinnear   \n",
      "3                  22000.0                 23000.0    Christian Bale   \n",
      "5                    475.0                   530.0   Samantha Morton   \n",
      "\n",
      "   actor_1_facebook_likes        gross                           genres  ...  \\\n",
      "0                  1000.0  760505847.0  Action|Adventure|Fantasy|Sci-Fi  ...   \n",
      "1                 40000.0  309404152.0         Action|Adventure|Fantasy  ...   \n",
      "2                 11000.0  200074175.0        Action|Adventure|Thriller  ...   \n",
      "3                 27000.0  448130642.0                  Action|Thriller  ...   \n",
      "5                   640.0   73058679.0          Action|Adventure|Sci-Fi  ...   \n",
      "\n",
      "  num_user_for_reviews language  country  content_rating       budget  \\\n",
      "0               3054.0  English      USA           PG-13  237000000.0   \n",
      "1               1238.0  English      USA           PG-13  300000000.0   \n",
      "2                994.0  English       UK           PG-13  245000000.0   \n",
      "3               2701.0  English      USA           PG-13  250000000.0   \n",
      "5                738.0  English      USA           PG-13  263700000.0   \n",
      "\n",
      "   title_year actor_2_facebook_likes imdb_score  aspect_ratio  \\\n",
      "0      2009.0                  936.0        7.9          1.78   \n",
      "1      2007.0                 5000.0        7.1          2.35   \n",
      "2      2015.0                  393.0        6.8          2.35   \n",
      "3      2012.0                23000.0        8.5          2.35   \n",
      "5      2012.0                  632.0        6.6          2.35   \n",
      "\n",
      "  movie_facebook_likes  \n",
      "0                33000  \n",
      "1                    0  \n",
      "2                85000  \n",
      "3               164000  \n",
      "5                24000  \n",
      "\n",
      "[5 rows x 28 columns]\n"
     ]
    }
   ],
   "source": [
    "# Write your code for dropping the rows here\n",
    "movies_cleaned = movies.dropna(thresh=movies.shape[1] - 5)\n",
    "\n",
    "# Display the shape of the dataframe after dropping rows\n",
    "print(f\"DataFrame shape after dropping rows with more than five NaN values: {movies_cleaned.shape}\")\n",
    "\n",
    "# Optionally, display the first few rows to verify\n",
    "print(\"\\nFirst few rows after cleaning:\")\n",
    "print(movies_cleaned.head())"
   ]
  },
  {
   "cell_type": "markdown",
   "metadata": {},
   "source": [
    "-  ### Subtask 2.5: Fill NaN values\n",
    "\n",
    "You might notice that the `language` column has some NaN values. Here, on inspection, you will see that it is safe to replace all the missing values with `'English'`."
   ]
  },
  {
   "cell_type": "code",
   "execution_count": 16,
   "metadata": {},
   "outputs": [
    {
     "name": "stdout",
     "output_type": "stream",
     "text": [
      "Unique values in the 'language' column after filling NaN values:\n",
      "['English' 'Japanese' 'French' 'Mandarin' 'Aboriginal' 'Spanish'\n",
      " 'Filipino' 'Hindi' 'Russian' 'Maya' 'Kazakh' 'Telugu' 'Cantonese'\n",
      " 'Icelandic' 'German' 'Aramaic' 'Italian' 'Dutch' 'Dari' 'Hebrew'\n",
      " 'Chinese' 'Mongolian' 'Swedish' 'Korean' 'Thai' 'Polish' 'Bosnian'\n",
      " 'Hungarian' 'Portuguese' 'Danish' 'Arabic' 'Norwegian' 'Czech' 'Kannada'\n",
      " 'Zulu' 'Panjabi' 'Tamil' 'Dzongkha' 'Vietnamese' 'Indonesian' 'Urdu'\n",
      " 'Romanian' 'Persian' 'Slovenian' 'Greek' 'Swahili']\n"
     ]
    }
   ],
   "source": [
    "# Write your code for filling the NaN values in the 'language' column here\n",
    "movies['language'].fillna('English', inplace=True)\n",
    "\n",
    "# Verify the changes by checking the unique values in the 'language' column\n",
    "print(\"Unique values in the 'language' column after filling NaN values:\")\n",
    "print(movies['language'].unique())"
   ]
  },
  {
   "cell_type": "markdown",
   "metadata": {},
   "source": [
    "-  ### Subtask 2.6: Check the number of retained rows\n",
    "\n",
    "You might notice that two of the columns viz. `num_critic_for_reviews` and `actor_1_name` have small percentages of NaN values left. You can let these columns as it is for now. Check the number and percentage of the rows retained after completing all the tasks above."
   ]
  },
  {
   "cell_type": "code",
   "execution_count": 17,
   "metadata": {},
   "outputs": [
    {
     "name": "stdout",
     "output_type": "stream",
     "text": [
      "Initial number of rows: 5043\n",
      "Number of rows after cleaning: 3891\n",
      "Percentage of rows retained: 77.16%\n"
     ]
    }
   ],
   "source": [
    "# Write your code for checking number of retained rows here\n",
    "initial_rows = movies.shape[0]\n",
    "\n",
    "# Assuming previous subtasks were applied sequentially, here's a quick summary:\n",
    "# 1. Drop unnecessary columns\n",
    "columns_to_drop = [\n",
    "    'color', 'director_facebook_likes', 'actor_1_facebook_likes',\n",
    "    'actor_2_facebook_likes', 'actor_3_facebook_likes', 'actor_2_name',\n",
    "    'cast_total_facebook_likes', 'actor_3_name', 'duration',\n",
    "    'facenumber_in_poster', 'content_rating', 'country',\n",
    "    'movie_imdb_link', 'aspect_ratio', 'plot_keywords'\n",
    "]\n",
    "movies = movies.drop(columns=columns_to_drop)\n",
    "\n",
    "# 2. Drop rows with high percentage of NaN values\n",
    "null_percentages = movies.isnull().mean() * 100\n",
    "columns_with_high_nulls = null_percentages[null_percentages > 5].index\n",
    "movies = movies.dropna(subset=columns_with_high_nulls)\n",
    "\n",
    "# 3. Drop rows with more than 5 NaN values\n",
    "movies = movies.dropna(thresh=movies.shape[1] - 5)\n",
    "\n",
    "# 4. Fill NaN values in the 'language' column\n",
    "movies['language'].fillna('English', inplace=True)\n",
    "\n",
    "# Number of rows after cleaning\n",
    "final_rows = movies.shape[0]\n",
    "\n",
    "# Calculate the percentage of rows retained\n",
    "percentage_retained = (final_rows / initial_rows) * 100\n",
    "\n",
    "# Display the results\n",
    "print(f\"Initial number of rows: {initial_rows}\")\n",
    "print(f\"Number of rows after cleaning: {final_rows}\")\n",
    "print(f\"Percentage of rows retained: {percentage_retained:.2f}%\")"
   ]
  },
  {
   "cell_type": "markdown",
   "metadata": {},
   "source": [
    "**Checkpoint 1:** You might have noticed that we still have around `77%` of the rows!"
   ]
  },
  {
   "cell_type": "markdown",
   "metadata": {},
   "source": [
    "YES\n"
   ]
  },
  {
   "cell_type": "markdown",
   "metadata": {},
   "source": [
    "## Task 3: Data Analysis\n",
    "\n",
    "-  ### Subtask 3.1: Change the unit of columns\n",
    "\n",
    "Convert the unit of the `budget` and `gross` columns from `$` to `million $`."
   ]
  },
  {
   "cell_type": "code",
   "execution_count": 18,
   "metadata": {},
   "outputs": [
    {
     "name": "stdout",
     "output_type": "stream",
     "text": [
      "First few rows after converting 'budget' and 'gross' to million dollars:\n",
      "   budget_million$  gross_million$\n",
      "0            237.0      760.505847\n",
      "1            300.0      309.404152\n",
      "2            245.0      200.074175\n",
      "3            250.0      448.130642\n",
      "5            263.7       73.058679\n"
     ]
    }
   ],
   "source": [
    "# Write your code for unit conversion here\n",
    "movies['budget'] = movies['budget'] / 1_000_000\n",
    "movies['gross'] = movies['gross'] / 1_000_000\n",
    "\n",
    "# Optionally, you can rename the columns to indicate the new units\n",
    "movies.rename(columns={'budget': 'budget_million$', 'gross': 'gross_million$'}, inplace=True)\n",
    "\n",
    "# Display the first few rows to verify the changes\n",
    "print(\"First few rows after converting 'budget' and 'gross' to million dollars:\")\n",
    "print(movies[['budget_million$', 'gross_million$']].head())"
   ]
  },
  {
   "cell_type": "markdown",
   "metadata": {},
   "source": [
    "-  ### Subtask 3.2: Find the movies with highest profit\n",
    "\n",
    "    1. Create a new column called `profit` which contains the difference of the two columns: `gross` and `budget`.\n",
    "    2. Sort the dataframe using the `profit` column as reference.\n",
    "    3. Extract the top ten profiting movies in descending order and store them in a new dataframe - `top10`"
   ]
  },
  {
   "cell_type": "code",
   "execution_count": 22,
   "metadata": {},
   "outputs": [
    {
     "name": "stdout",
     "output_type": "stream",
     "text": [
      "Column names in the dataframe:\n",
      "Index(['director_name', 'num_critic_for_reviews', 'gross_million$', 'genres',\n",
      "       'actor_1_name', 'movie_title', 'num_voted_users',\n",
      "       'num_user_for_reviews', 'language', 'budget_million$', 'title_year',\n",
      "       'imdb_score', 'movie_facebook_likes'],\n",
      "      dtype='object')\n"
     ]
    }
   ],
   "source": [
    "print(\"Column names in the dataframe:\")\n",
    "print(movies.columns)"
   ]
  },
  {
   "cell_type": "code",
   "execution_count": 30,
   "metadata": {},
   "outputs": [],
   "source": [
    "movies['profit'] = movies['gross_million$'] - movies['budget_million$']\n"
   ]
  },
  {
   "cell_type": "code",
   "execution_count": 31,
   "metadata": {},
   "outputs": [],
   "source": [
    "# Write your code for sorting the dataframe here\n",
    "movies_sorted = movies.sort_values(by='profit', ascending=False)"
   ]
  },
  {
   "cell_type": "code",
   "execution_count": 32,
   "metadata": {},
   "outputs": [
    {
     "name": "stdout",
     "output_type": "stream",
     "text": [
      "Top 10 profiting movies:\n",
      "                                     movie_title      profit\n",
      "0                                        Avatar   523.505847\n",
      "29                               Jurassic World   502.177271\n",
      "26                                      Titanic   458.672302\n",
      "3024         Star Wars: Episode IV - A New Hope   449.935665\n",
      "3080                 E.T. the Extra-Terrestrial   424.449459\n",
      "794                                The Avengers   403.279547\n",
      "17                                 The Avengers   403.279547\n",
      "509                               The Lion King   377.783777\n",
      "240   Star Wars: Episode I - The Phantom Menace   359.544677\n",
      "66                              The Dark Knight   348.316061\n"
     ]
    }
   ],
   "source": [
    "top10 =  movies_sorted.head(10)\n",
    "print(\"Top 10 profiting movies:\")\n",
    "print(top10[['movie_title', 'profit']]) "
   ]
  },
  {
   "cell_type": "markdown",
   "metadata": {},
   "source": [
    "-  ### Subtask 3.3: Drop duplicate values\n",
    "\n",
    "After you found out the top 10 profiting movies, you might have notice a duplicate value. So, it seems like the dataframe has duplicate values as well. Drop the duplicate values from the dataframe and repeat `Subtask 3.2`."
   ]
  },
  {
   "cell_type": "code",
   "execution_count": 33,
   "metadata": {},
   "outputs": [
    {
     "name": "stdout",
     "output_type": "stream",
     "text": [
      "Top 10 profiting movies after removing duplicates:\n",
      "                                     movie_title      profit\n",
      "0                                        Avatar   523.505847\n",
      "29                               Jurassic World   502.177271\n",
      "26                                      Titanic   458.672302\n",
      "3024         Star Wars: Episode IV - A New Hope   449.935665\n",
      "3080                 E.T. the Extra-Terrestrial   424.449459\n",
      "17                                 The Avengers   403.279547\n",
      "509                               The Lion King   377.783777\n",
      "240   Star Wars: Episode I - The Phantom Menace   359.544677\n",
      "66                              The Dark Knight   348.316061\n",
      "439                            The Hunger Games   329.999255\n",
      "\n",
      "Number of duplicate rows removed: 0\n"
     ]
    }
   ],
   "source": [
    "# Write your code for dropping duplicate values here\n",
    "movies = movies.drop_duplicates()\n",
    "\n",
    "# Create a new column 'profit' which is the difference between 'gross_million$' and 'budget_million$'\n",
    "movies['profit'] = movies['gross_million$'] - movies['budget_million$']\n",
    "\n",
    "# Sort the dataframe by 'profit' in descending order\n",
    "movies_sorted = movies.sort_values(by='profit', ascending=False)\n",
    "\n",
    "# Extract the top ten profiting movies\n",
    "top10 = movies_sorted.head(10)\n",
    "\n",
    "# Display the top ten profiting movies\n",
    "print(\"Top 10 profiting movies after removing duplicates:\")\n",
    "print(top10[['movie_title', 'profit']])  # Using 'movie_title' as the column name for titles\n",
    "\n",
    "# Optionally, check for duplicates again\n",
    "print(f\"\\nNumber of duplicate rows removed: {movies.shape[0] - movies.drop_duplicates().shape[0]}\")"
   ]
  },
  {
   "cell_type": "code",
   "execution_count": 36,
   "metadata": {},
   "outputs": [
    {
     "name": "stdout",
     "output_type": "stream",
     "text": [
      "\n",
      "Movies directed by James Cameron:\n",
      "                      movie_title  director_name\n",
      "0                         Avatar   James Cameron\n",
      "26                       Titanic   James Cameron\n",
      "288   Terminator 2: Judgment Day   James Cameron\n",
      "291                    True Lies   James Cameron\n",
      "606                    The Abyss   James Cameron\n",
      "2486                      Aliens   James Cameron\n",
      "3575              The Terminator   James Cameron\n"
     ]
    }
   ],
   "source": [
    "# Write code for repeating subtask 2 here\n",
    "james_cameron_movies = movies[movies['director_name'] == 'James Cameron']\n",
    "\n",
    "print(\"\\nMovies directed by James Cameron:\")\n",
    "print(james_cameron_movies[['movie_title', 'director_name']])"
   ]
  },
  {
   "cell_type": "markdown",
   "metadata": {},
   "source": [
    "**Checkpoint 2:** You might spot two movies directed by `James Cameron` in the list."
   ]
  },
  {
   "cell_type": "markdown",
   "metadata": {},
   "source": [
    "YES"
   ]
  },
  {
   "cell_type": "markdown",
   "metadata": {},
   "source": [
    "-  ### Subtask 3.4: Find IMDb Top 250\n",
    "\n",
    "    1. Create a new dataframe `IMDb_Top_250` and store the top 250 movies with the highest IMDb Rating (corresponding to the column: `imdb_score`). Also make sure that for all of these movies, the `num_voted_users` is greater than 25,000.\n",
    "Also add a `Rank` column containing the values 1 to 250 indicating the ranks of the corresponding films.\n",
    "    2. Extract all the movies in the `IMDb_Top_250` dataframe which are not in the English language and store them in a new dataframe named `Top_Foreign_Lang_Film`."
   ]
  },
  {
   "cell_type": "code",
   "execution_count": 37,
   "metadata": {},
   "outputs": [
    {
     "name": "stdout",
     "output_type": "stream",
     "text": [
      "IMDb Top 250 Movies:\n",
      "                              movie_title  imdb_score  num_voted_users  Rank\n",
      "0                                 Avatar          7.9           886204     1\n",
      "29                        Jurassic World          7.0           418214     2\n",
      "26                               Titanic          7.7           793059     3\n",
      "3024  Star Wars: Episode IV - A New Hope          8.7           911097     4\n",
      "3080          E.T. the Extra-Terrestrial          7.9           281842     5\n"
     ]
    }
   ],
   "source": [
    "# Write your code for extracting the top 250 movies as per the IMDb score here. Make sure that you store it in a new dataframe \n",
    "# and name that dataframe as 'IMDb_Top_250'\n",
    "movies_filtered = movies[movies['num_voted_users'] > 25000]\n",
    "df_sorted = movies_filtered.sort_values(by='imdb_score', ascending=False)\n",
    "\n",
    "IMDb_Top_250 = movies_sorted.head(250).copy()\n",
    "\n",
    "# Add a 'Rank' column with values from 1 to 250\n",
    "IMDb_Top_250['Rank'] = range(1, 251)\n",
    "\n",
    "# Display the 'IMDb_Top_250' dataframe\n",
    "print(\"IMDb Top 250 Movies:\")\n",
    "print(IMDb_Top_250[['movie_title', 'imdb_score', 'num_voted_users', 'Rank']].head())\n"
   ]
  },
  {
   "cell_type": "code",
   "execution_count": 39,
   "metadata": {},
   "outputs": [
    {
     "name": "stdout",
     "output_type": "stream",
     "text": [
      "\n",
      "Top Foreign Language Films in IMDb Top 250:\n",
      "                          movie_title  language  imdb_score  Rank\n",
      "2605  Crouching Tiger, Hidden Dragon   Mandarin         7.9   174\n"
     ]
    }
   ],
   "source": [
    "Top_Foreign_Lang_Film = IMDb_Top_250[IMDb_Top_250['language'] != 'English']\n",
    "\n",
    "# Display the top foreign language films\n",
    "print(\"\\nTop Foreign Language Films in IMDb Top 250:\")\n",
    "print(Top_Foreign_Lang_Film[['movie_title', 'language', 'imdb_score', 'Rank']])"
   ]
  },
  {
   "cell_type": "code",
   "execution_count": 40,
   "metadata": {},
   "outputs": [
    {
     "name": "stdout",
     "output_type": "stream",
     "text": [
      "\n",
      "Is 'Veer-Zaara' in the IMDb Top 250?\n",
      "Empty DataFrame\n",
      "Columns: [director_name, num_critic_for_reviews, gross_million$, genres, actor_1_name, movie_title, num_voted_users, num_user_for_reviews, language, budget_million$, title_year, imdb_score, movie_facebook_likes, profit, Rank]\n",
      "Index: []\n"
     ]
    }
   ],
   "source": [
    "veer_zaara_check = IMDb_Top_250[IMDb_Top_250['movie_title'] == 'Veer-Zaara']\n",
    "print(\"\\nIs 'Veer-Zaara' in the IMDb Top 250?\")\n",
    "print(veer_zaara_check)"
   ]
  },
  {
   "cell_type": "markdown",
   "metadata": {},
   "source": [
    "**Checkpoint 3:** Can you spot `Veer-Zaara` in the dataframe?"
   ]
  },
  {
   "cell_type": "markdown",
   "metadata": {},
   "source": [
    "NO\n"
   ]
  },
  {
   "cell_type": "markdown",
   "metadata": {},
   "source": [
    "- ### Subtask 3.5: Find the best directors\n",
    "\n",
    "    1. Group the dataframe using the `director_name` column.\n",
    "    2. Find out the top 10 directors for whom the mean of `imdb_score` is the highest and store them in a new dataframe `top10director`. "
   ]
  },
  {
   "cell_type": "code",
   "execution_count": 41,
   "metadata": {},
   "outputs": [
    {
     "name": "stdout",
     "output_type": "stream",
     "text": [
      "Top 10 Directors with the Highest Mean IMDb Scores:\n",
      "              director_name  imdb_score\n",
      "216         Charles Chaplin    8.600000\n",
      "1675              Tony Kaye    8.600000\n",
      "45         Alfred Hitchcock    8.500000\n",
      "1440             Ron Fricke    8.500000\n",
      "302         Damien Chazelle    8.500000\n",
      "1017           Majid Majidi    8.500000\n",
      "1498           Sergio Leone    8.433333\n",
      "260       Christopher Nolan    8.425000\n",
      "1467         S.S. Rajamouli    8.400000\n",
      "1035  Marius A. Markevicius    8.400000\n"
     ]
    }
   ],
   "source": [
    "# Write your code for extracting the top 10 directors here\n",
    "grouped_directors = movies.groupby('director_name')['imdb_score'].mean().reset_index()\n",
    "\n",
    "# 2. Find the top 10 directors with the highest mean IMDb scores\n",
    "top10directors = grouped_directors.sort_values(by='imdb_score', ascending=False).head(10)\n",
    "\n",
    "# Display the top 10 directors\n",
    "print(\"Top 10 Directors with the Highest Mean IMDb Scores:\")\n",
    "print(top10directors)"
   ]
  },
  {
   "cell_type": "markdown",
   "metadata": {},
   "source": [
    "**Checkpoint 4:** No surprises that `Damien Chazelle` (director of Whiplash and La La Land) is in this list."
   ]
  },
  {
   "cell_type": "markdown",
   "metadata": {},
   "source": [
    "YES\n"
   ]
  },
  {
   "cell_type": "markdown",
   "metadata": {},
   "source": [
    "-  ### Subtask 3.6: Find popular genres\n",
    "\n",
    "You might have noticed the `genres` column in the dataframe with all the genres of the movies seperated by a pipe (`|`). Out of all the movie genres, the first two are most significant for any film.\n",
    "\n",
    "1. Extract the first two genres from the `genres` column and store them in two new columns: `genre_1` and `genre_2`. Some of the movies might have only one genre. In such cases, extract the single genre into both the columns, i.e. for such movies the `genre_2` will be the same as `genre_1`.\n",
    "2. Group the dataframe using `genre_1` as the primary column and `genre_2` as the secondary column.\n",
    "3. Find out the 5 most popular combo of genres by finding the mean of the gross values using the `gross` column and store them in a new dataframe named `PopGenre`."
   ]
  },
  {
   "cell_type": "code",
   "execution_count": 44,
   "metadata": {},
   "outputs": [],
   "source": [
    "# Write your code for extracting the first two genres of each movie here\n",
    "genres_split = movies['genres'].str.split('|', n=1, expand=True)\n",
    "movies['genre_1'] = genres_split[0]\n",
    "movies['genre_2'] = genres_split[1].fillna(movies['genre_1'])"
   ]
  },
  {
   "cell_type": "code",
   "execution_count": 46,
   "metadata": {},
   "outputs": [],
   "source": [
    "movies_by_segment = movies.groupby(['genre_1', 'genre_2'])['gross_million$'].mean().reset_index()"
   ]
  },
  {
   "cell_type": "code",
   "execution_count": 49,
   "metadata": {},
   "outputs": [
    {
     "name": "stdout",
     "output_type": "stream",
     "text": [
      "Top 5 Most Popular Genre Combinations:\n",
      "       genre_1                                genre_2  gross_million$\n",
      "731     Family                                 Sci-Fi      434.949459\n",
      "281  Adventure         Animation|Drama|Family|Musical      422.783777\n",
      "258  Adventure  Animation|Comedy|Drama|Family|Fantasy      356.454367\n",
      "126     Action   Biography|Drama|History|Thriller|War      350.123553\n",
      "93      Action               Adventure|Fantasy|Sci-Fi      296.684758\n"
     ]
    }
   ],
   "source": [
    "PopGenre = movies_by_segment.sort_values(by='gross_million$', ascending=False).head(5)\n",
    "print(\"Top 5 Most Popular Genre Combinations:\")\n",
    "print(PopGenre)"
   ]
  },
  {
   "cell_type": "markdown",
   "metadata": {},
   "source": [
    "**Checkpoint 5:** Well, as it turns out. `Family + Sci-Fi` is the most popular combo of genres out there!"
   ]
  },
  {
   "cell_type": "markdown",
   "metadata": {},
   "source": [
    "YES"
   ]
  },
  {
   "cell_type": "markdown",
   "metadata": {},
   "source": [
    "-  ### Subtask 3.7: Find the critic-favorite and audience-favorite actors\n",
    "\n",
    "    1. Create three new dataframes namely, `Meryl_Streep`, `Leo_Caprio`, and `Brad_Pitt` which contain the movies in which the actors: 'Meryl Streep', 'Leonardo DiCaprio', and 'Brad Pitt' are the lead actors. Use only the `actor_1_name` column for extraction. Also, make sure that you use the names 'Meryl Streep', 'Leonardo DiCaprio', and 'Brad Pitt' for the said extraction.\n",
    "    2. Append the rows of all these dataframes and store them in a new dataframe named `Combined`.\n",
    "    3. Group the combined dataframe using the `actor_1_name` column.\n",
    "    4. Find the mean of the `num_critic_for_reviews` and `num_user_for_review` and identify the actors which have the highest mean."
   ]
  },
  {
   "cell_type": "code",
   "execution_count": 52,
   "metadata": {},
   "outputs": [],
   "source": [
    "# Write your code for creating three new dataframes here\n",
    "Meryl_Streep = movies[movies['actor_1_name'] == 'Meryl Streep']"
   ]
  },
  {
   "cell_type": "code",
   "execution_count": 53,
   "metadata": {},
   "outputs": [],
   "source": [
    "Leo_Caprio =  movies[movies['actor_1_name'] == 'Leonardo DiCaprio']# Include all movies in which Leo_Caprio is the lead"
   ]
  },
  {
   "cell_type": "code",
   "execution_count": 54,
   "metadata": {},
   "outputs": [],
   "source": [
    "Brad_Pitt = movies[movies['actor_1_name'] == 'Brad Pitt'] # Include all movies in which Brad_Pitt is the lead"
   ]
  },
  {
   "cell_type": "code",
   "execution_count": 55,
   "metadata": {},
   "outputs": [],
   "source": [
    "# Write your code for combining the three dataframes here\n",
    "Combined = pd.concat([Meryl_Streep, Leo_Caprio, Brad_Pitt])"
   ]
  },
  {
   "cell_type": "code",
   "execution_count": 57,
   "metadata": {},
   "outputs": [],
   "source": [
    "# Write your code for grouping the combined dataframe here\n",
    "grouped_combined = Combined.groupby('actor_1_name').agg({\n",
    "    'num_critic_for_reviews': 'mean',\n",
    "    'num_user_for_reviews': 'mean'\n",
    "}).reset_index()"
   ]
  },
  {
   "cell_type": "code",
   "execution_count": 58,
   "metadata": {},
   "outputs": [
    {
     "name": "stdout",
     "output_type": "stream",
     "text": [
      "Critic-Favorite and Audience-Favorite Actors:\n",
      "        actor_1_name  num_critic_for_reviews  num_user_for_reviews\n",
      "1  Leonardo DiCaprio              330.190476            914.476190\n",
      "0          Brad Pitt              245.000000            742.352941\n",
      "2       Meryl Streep              181.454545            297.181818\n"
     ]
    }
   ],
   "source": [
    "# Write the code for finding the mean of critic reviews and audience reviews here\n",
    "top_actors = grouped_combined.sort_values(by=['num_critic_for_reviews', 'num_user_for_reviews'], ascending=False)\n",
    "\n",
    "print(\"Critic-Favorite and Audience-Favorite Actors:\")\n",
    "print(top_actors)"
   ]
  },
  {
   "cell_type": "markdown",
   "metadata": {},
   "source": [
    "**Checkpoint 6:** `Leonardo` has aced both the lists!"
   ]
  },
  {
   "cell_type": "markdown",
   "metadata": {},
   "source": [
    "YES"
   ]
  }
 ],
 "metadata": {
  "kernelspec": {
   "display_name": "Python 3",
   "language": "python",
   "name": "python3"
  },
  "language_info": {
   "codemirror_mode": {
    "name": "ipython",
    "version": 3
   },
   "file_extension": ".py",
   "mimetype": "text/x-python",
   "name": "python",
   "nbconvert_exporter": "python",
   "pygments_lexer": "ipython3",
   "version": "3.11.9"
  }
 },
 "nbformat": 4,
 "nbformat_minor": 2
}
