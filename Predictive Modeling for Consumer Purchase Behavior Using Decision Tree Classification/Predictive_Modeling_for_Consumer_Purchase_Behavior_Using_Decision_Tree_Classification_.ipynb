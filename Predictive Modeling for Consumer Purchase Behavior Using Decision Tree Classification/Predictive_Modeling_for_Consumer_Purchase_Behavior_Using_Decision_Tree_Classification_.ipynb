{
  "nbformat": 4,
  "nbformat_minor": 0,
  "metadata": {
    "colab": {
      "provenance": []
    },
    "kernelspec": {
      "name": "python3",
      "display_name": "Python 3"
    },
    "language_info": {
      "name": "python"
    }
  },
  "cells": [
    {
      "cell_type": "code",
      "source": [
        "from sklearn.tree import DecisionTreeClassifier\n",
        "from sklearn.model_selection import train_test_split\n",
        "from sklearn.metrics import accuracy_score\n",
        "\n",
        "# Sample data: Each entry represents [age, income, has_credit_card, buys]\n",
        "data = [\n",
        "    [22, 22000, True, 'yes'],\n",
        "    [35, 57000, False, 'no'],\n",
        "    [42, 75000, True, 'yes'],\n",
        "    [28, 49000, True, 'no'],\n",
        "    [48, 98000, False, 'yes'],\n",
        "    [33, 66000, True, 'no'],\n",
        "    [27, 32000, False, 'yes'],\n",
        "    [38, 61000, True, 'no'],\n",
        "    [40, 69000, True, 'yes'],\n",
        "    [45, 88000, False, 'yes']\n",
        "]\n",
        "\n",
        "# Convert 'yes' and 'no' to 1 and 0 for classification\n",
        "for row in data:\n",
        "    row[3] = 1 if row[3] == 'yes' else 0\n",
        "\n",
        "# Split data into features and labels\n",
        "X = [row[:3] for row in data]\n",
        "y = [row[3] for row in data]\n",
        "\n",
        "# Split data into training and testing sets\n",
        "X_train, X_test, y_train, y_test = train_test_split(X, y, test_size=0.2, random_state=42)\n",
        "\n",
        "# Create and train decision tree classifier\n",
        "classifier = DecisionTreeClassifier()\n",
        "classifier.fit(X_train, y_train)\n",
        "\n",
        "# Make predictions on the test set\n",
        "predictions = classifier.predict(X_test)\n",
        "\n",
        "# Calculate accuracy\n",
        "accuracy = accuracy_score(y_test, predictions)\n",
        "print(\"Accuracy:\", accuracy)\n",
        "\n",
        "# Example prediction\n",
        "example = [70, 200000, True]\n",
        "prediction = classifier.predict([example])\n",
        "print(\"Prediction for {}: {}\".format(example, \"buys\" if prediction[0] == 1 else \"doesn't buy\"))\n"
      ],
      "metadata": {
        "colab": {
          "base_uri": "https://localhost:8080/"
        },
        "id": "DGR2FaehIkNS",
        "outputId": "11f1a7a0-c19e-45e5-fdfc-915528c11845"
      },
      "execution_count": null,
      "outputs": [
        {
          "output_type": "stream",
          "name": "stdout",
          "text": [
            "Accuracy: 0.0\n",
            "Prediction for [70, 200000, True]: buys\n"
          ]
        }
      ]
    }
  ]
}